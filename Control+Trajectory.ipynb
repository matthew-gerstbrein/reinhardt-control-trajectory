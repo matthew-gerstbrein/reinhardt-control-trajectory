{
 "cells": [
  {
   "cell_type": "code",
   "execution_count": 25,
   "metadata": {
    "collapsed": false,
    "deletable": true,
    "editable": true
   },
   "outputs": [
    {
     "ename": "TypeError",
     "evalue": "cannot evaluate symbolic expression numerically",
     "output_type": "error",
     "traceback": [
      "\u001b[0;31m---------------------------------------------------------------------------\u001b[0m",
      "\u001b[0;31mTypeError\u001b[0m                                 Traceback (most recent call last)",
      "\u001b[0;32m<ipython-input-25-c74cc31eaa07>\u001b[0m in \u001b[0;36m<module>\u001b[0;34m()\u001b[0m\n\u001b[1;32m     66\u001b[0m     \u001b[0;32mreturn\u001b[0m \u001b[0msol\u001b[0m\u001b[0;34m\u001b[0m\u001b[0m\n\u001b[1;32m     67\u001b[0m \u001b[0ma\u001b[0m \u001b[0;34m=\u001b[0m \u001b[0mInteger\u001b[0m\u001b[0;34m(\u001b[0m\u001b[0;36m1\u001b[0m\u001b[0;34m)\u001b[0m\u001b[0;34m/\u001b[0m\u001b[0msqrt\u001b[0m\u001b[0;34m(\u001b[0m\u001b[0mInteger\u001b[0m\u001b[0;34m(\u001b[0m\u001b[0;36m3\u001b[0m\u001b[0;34m)\u001b[0m\u001b[0;34m)\u001b[0m \u001b[0;34m-\u001b[0m \u001b[0mRealNumber\u001b[0m\u001b[0;34m(\u001b[0m\u001b[0;34m'.1'\u001b[0m\u001b[0;34m)\u001b[0m\u001b[0;34m\u001b[0m\u001b[0m\n\u001b[0;32m---> 68\u001b[0;31m \u001b[0mparametric_plot\u001b[0m\u001b[0;34m(\u001b[0m\u001b[0;34m(\u001b[0m\u001b[0mz1\u001b[0m\u001b[0;34m(\u001b[0m\u001b[0ma\u001b[0m\u001b[0;34m,\u001b[0m \u001b[0mInteger\u001b[0m\u001b[0;34m(\u001b[0m\u001b[0;36m3\u001b[0m\u001b[0;34m)\u001b[0m\u001b[0;34m,\u001b[0m \u001b[0mt\u001b[0m\u001b[0;34m)\u001b[0m\u001b[0;34m.\u001b[0m\u001b[0mreal\u001b[0m\u001b[0;34m(\u001b[0m\u001b[0;34m)\u001b[0m\u001b[0;34m,\u001b[0m \u001b[0mz1\u001b[0m\u001b[0;34m(\u001b[0m\u001b[0ma\u001b[0m\u001b[0;34m,\u001b[0m \u001b[0mInteger\u001b[0m\u001b[0;34m(\u001b[0m\u001b[0;36m3\u001b[0m\u001b[0;34m)\u001b[0m\u001b[0;34m,\u001b[0m \u001b[0mt\u001b[0m\u001b[0;34m)\u001b[0m\u001b[0;34m.\u001b[0m\u001b[0mimag\u001b[0m\u001b[0;34m(\u001b[0m\u001b[0;34m)\u001b[0m\u001b[0;34m)\u001b[0m\u001b[0;34m,\u001b[0m \u001b[0;34m(\u001b[0m\u001b[0mt\u001b[0m\u001b[0;34m,\u001b[0m \u001b[0mInteger\u001b[0m\u001b[0;34m(\u001b[0m\u001b[0;36m0\u001b[0m\u001b[0;34m)\u001b[0m\u001b[0;34m,\u001b[0m \u001b[0mRealNumber\u001b[0m\u001b[0;34m(\u001b[0m\u001b[0;34m'.2'\u001b[0m\u001b[0;34m)\u001b[0m\u001b[0;34m)\u001b[0m\u001b[0;34m)\u001b[0m\u001b[0;34m\u001b[0m\u001b[0m\n\u001b[0m\u001b[1;32m     69\u001b[0m \u001b[0;31m#for i in range(0, 100):\u001b[0m\u001b[0;34m\u001b[0m\u001b[0;34m\u001b[0m\u001b[0m\n\u001b[1;32m     70\u001b[0m     \u001b[0;31m#print(z1(a, 3, .2*i/100))\u001b[0m\u001b[0;34m\u001b[0m\u001b[0;34m\u001b[0m\u001b[0m\n",
      "\u001b[0;32m<ipython-input-25-c74cc31eaa07>\u001b[0m in \u001b[0;36mz1\u001b[0;34m(x_init, y_init, t)\u001b[0m\n\u001b[1;32m     28\u001b[0m \u001b[0;32mdef\u001b[0m \u001b[0mz1\u001b[0m\u001b[0;34m(\u001b[0m\u001b[0mx_init\u001b[0m\u001b[0;34m,\u001b[0m \u001b[0my_init\u001b[0m\u001b[0;34m,\u001b[0m \u001b[0mt\u001b[0m\u001b[0;34m)\u001b[0m\u001b[0;34m:\u001b[0m\u001b[0;34m\u001b[0m\u001b[0m\n\u001b[1;32m     29\u001b[0m     \u001b[0mlz_init\u001b[0m \u001b[0;34m=\u001b[0m \u001b[0mlinfrac\u001b[0m\u001b[0;34m(\u001b[0m\u001b[0mx_init\u001b[0m\u001b[0;34m,\u001b[0m \u001b[0my_init\u001b[0m\u001b[0;34m)\u001b[0m\u001b[0;34m\u001b[0m\u001b[0m\n\u001b[0;32m---> 30\u001b[0;31m     \u001b[0mlz3\u001b[0m \u001b[0;34m=\u001b[0m \u001b[0mz3\u001b[0m\u001b[0;34m(\u001b[0m\u001b[0mlz_init\u001b[0m\u001b[0;34m.\u001b[0m\u001b[0mreal\u001b[0m\u001b[0;34m(\u001b[0m\u001b[0;34m)\u001b[0m\u001b[0;34m,\u001b[0m \u001b[0mlz_init\u001b[0m\u001b[0;34m.\u001b[0m\u001b[0mimag\u001b[0m\u001b[0;34m(\u001b[0m\u001b[0;34m)\u001b[0m\u001b[0;34m,\u001b[0m \u001b[0mt\u001b[0m\u001b[0;34m)\u001b[0m\u001b[0;34m\u001b[0m\u001b[0m\n\u001b[0m\u001b[1;32m     31\u001b[0m     \u001b[0;32mreturn\u001b[0m \u001b[0minverse_linfrac\u001b[0m\u001b[0;34m(\u001b[0m\u001b[0mlz3\u001b[0m\u001b[0;34m.\u001b[0m\u001b[0mreal\u001b[0m\u001b[0;34m(\u001b[0m\u001b[0;34m)\u001b[0m\u001b[0;34m,\u001b[0m \u001b[0mlz3\u001b[0m\u001b[0;34m.\u001b[0m\u001b[0mimag\u001b[0m\u001b[0;34m(\u001b[0m\u001b[0;34m)\u001b[0m\u001b[0;34m)\u001b[0m\u001b[0;34m\u001b[0m\u001b[0m\n\u001b[1;32m     32\u001b[0m \u001b[0;34m\u001b[0m\u001b[0m\n",
      "\u001b[0;32m<ipython-input-25-c74cc31eaa07>\u001b[0m in \u001b[0;36mz3\u001b[0;34m(x_init, y_init, t)\u001b[0m\n\u001b[1;32m     17\u001b[0m     \u001b[0my\u001b[0m \u001b[0;34m=\u001b[0m \u001b[0mc0\u001b[0m\u001b[0;34m*\u001b[0m\u001b[0mc1\u001b[0m\u001b[0;34m*\u001b[0m\u001b[0me\u001b[0m\u001b[0;34m**\u001b[0m\u001b[0;34m(\u001b[0m\u001b[0mc1\u001b[0m\u001b[0;34m*\u001b[0m\u001b[0mt\u001b[0m\u001b[0;34m)\u001b[0m\u001b[0;34m\u001b[0m\u001b[0m\n\u001b[1;32m     18\u001b[0m     \u001b[0mz\u001b[0m \u001b[0;34m=\u001b[0m \u001b[0mx\u001b[0m \u001b[0;34m+\u001b[0m \u001b[0my\u001b[0m\u001b[0;34m*\u001b[0m\u001b[0mI\u001b[0m\u001b[0;34m\u001b[0m\u001b[0m\n\u001b[0;32m---> 19\u001b[0;31m     \u001b[0;32mreturn\u001b[0m \u001b[0mN\u001b[0m\u001b[0;34m(\u001b[0m\u001b[0mz\u001b[0m\u001b[0;34m)\u001b[0m\u001b[0;34m\u001b[0m\u001b[0m\n\u001b[0m\u001b[1;32m     20\u001b[0m \u001b[0;34m\u001b[0m\u001b[0m\n\u001b[1;32m     21\u001b[0m \u001b[0;32mdef\u001b[0m \u001b[0mz2\u001b[0m\u001b[0;34m(\u001b[0m\u001b[0mx_init\u001b[0m\u001b[0;34m,\u001b[0m \u001b[0my_init\u001b[0m\u001b[0;34m,\u001b[0m \u001b[0mt\u001b[0m\u001b[0;34m)\u001b[0m\u001b[0;34m:\u001b[0m\u001b[0;34m\u001b[0m\u001b[0m\n",
      "\u001b[0;32m/home/sage/sage-7.6/local/lib/python2.7/site-packages/sage/misc/functional.pyc\u001b[0m in \u001b[0;36mnumerical_approx\u001b[0;34m(x, prec, digits, algorithm)\u001b[0m\n\u001b[1;32m   1293\u001b[0m         \u001b[0;32mreturn\u001b[0m \u001b[0mnumerical_approx_generic\u001b[0m\u001b[0;34m(\u001b[0m\u001b[0mx\u001b[0m\u001b[0;34m,\u001b[0m \u001b[0mprec\u001b[0m\u001b[0;34m)\u001b[0m\u001b[0;34m\u001b[0m\u001b[0m\n\u001b[1;32m   1294\u001b[0m     \u001b[0;32melse\u001b[0m\u001b[0;34m:\u001b[0m\u001b[0;34m\u001b[0m\u001b[0m\n\u001b[0;32m-> 1295\u001b[0;31m         \u001b[0;32mreturn\u001b[0m \u001b[0mn\u001b[0m\u001b[0;34m(\u001b[0m\u001b[0mprec\u001b[0m\u001b[0;34m,\u001b[0m \u001b[0malgorithm\u001b[0m\u001b[0;34m=\u001b[0m\u001b[0malgorithm\u001b[0m\u001b[0;34m)\u001b[0m\u001b[0;34m\u001b[0m\u001b[0m\n\u001b[0m\u001b[1;32m   1296\u001b[0m \u001b[0;34m\u001b[0m\u001b[0m\n\u001b[1;32m   1297\u001b[0m \u001b[0mn\u001b[0m \u001b[0;34m=\u001b[0m \u001b[0mnumerical_approx\u001b[0m\u001b[0;34m\u001b[0m\u001b[0m\n",
      "\u001b[0;32m/home/sage/sage-7.6/src/sage/symbolic/expression.pyx\u001b[0m in \u001b[0;36msage.symbolic.expression.Expression.numerical_approx (/home/sage/sage/src/build/cythonized/sage/symbolic/expression.cpp:33597)\u001b[0;34m()\u001b[0m\n\u001b[1;32m   5533\u001b[0m             \u001b[0mres\u001b[0m \u001b[0;34m=\u001b[0m \u001b[0mx\u001b[0m\u001b[0;34m.\u001b[0m\u001b[0mpyobject\u001b[0m\u001b[0;34m(\u001b[0m\u001b[0;34m)\u001b[0m\u001b[0;34m\u001b[0m\u001b[0m\n\u001b[1;32m   5534\u001b[0m         \u001b[0;32melse\u001b[0m\u001b[0;34m:\u001b[0m\u001b[0;34m\u001b[0m\u001b[0m\n\u001b[0;32m-> 5535\u001b[0;31m             \u001b[0;32mraise\u001b[0m \u001b[0mTypeError\u001b[0m\u001b[0;34m(\u001b[0m\u001b[0;34m\"cannot evaluate symbolic expression numerically\"\u001b[0m\u001b[0;34m)\u001b[0m\u001b[0;34m\u001b[0m\u001b[0m\n\u001b[0m\u001b[1;32m   5536\u001b[0m \u001b[0;34m\u001b[0m\u001b[0m\n\u001b[1;32m   5537\u001b[0m         \u001b[0;31m# Important -- the  we get might not be a valid output for numerical_approx in\u001b[0m\u001b[0;34m\u001b[0m\u001b[0;34m\u001b[0m\u001b[0m\n",
      "\u001b[0;31mTypeError\u001b[0m: cannot evaluate symbolic expression numerically"
     ]
    }
   ],
   "source": [
    "#M.G. 5/23/17, Most recent update 5/30/17, Currently producing an error\n",
    "\n",
    "t = var('t') #Global time variable\n",
    "\n",
    "\n",
    "def linfrac(x, y): #Mobius transformation R.z, where z = x + yi, and R as defined in paper\n",
    "    a = cos(pi/3); b = -sin(pi/3); c = sin(pi/3); d = cos(pi/3); z = x + y*I\n",
    "    return N((a*z + b)/(c*z + d))\n",
    "\n",
    "def inverse_linfrac(x, y):\n",
    "    a = cos(-pi/3); b = -sin(-pi/3); c = sin(-pi/3); d = cos(-pi/3); z = x + y*I\n",
    "    return N((a*z + b)/(c*z + d))\n",
    "\n",
    "def z3(x_init, y_init, t):\n",
    "    m = 1/sqrt(3); c0 = x_init + m; c1 = y_init/c0\n",
    "    x = -m + c0*e^(c1*t)\n",
    "    y = c0*c1*e^(c1*t)\n",
    "    z = x + y*I\n",
    "    return N(z)\n",
    "\n",
    "def z2(x_init, y_init, t):\n",
    "    m = -1/sqrt(3); c0 = x_init + m; c1 = y_init/c0\n",
    "    x = -m + c0*e^(c1*t)\n",
    "    y = c0*c1*e^(c1*t)\n",
    "    z = x+ y*I\n",
    "    return N(z)\n",
    "\n",
    "def z1(x_init, y_init, t):\n",
    "    lz_init = linfrac(x_init, y_init)\n",
    "    lz3 = z3(lz_init.real(), lz_init.imag(), t)\n",
    "    return inverse_linfrac(lz3.real(), lz3.imag())\n",
    "    \n",
    "\n",
    "def get_time(x_init, y_init, x_fin, y_fin, t): #y_fin only used to determine the sign of m\n",
    "    if y_init <= y_fin:\n",
    "        m = 1/sqrt(3) \n",
    "    else:\n",
    "        m = -1/sqrt(3)\n",
    "    s = solve(x_fin == -m + (x_init + m)*e^((y_init/(x_init + m))*t), t)\n",
    "    return s\n",
    "    \n",
    "def control_trajectory(x1):\n",
    "    x0 = 0\n",
    "    y0 = 1\n",
    "    z0 = x0 + y0*I\n",
    "    y1 = sqrt(3)*x1 + 1\n",
    "    z1 = x1 + y1*I\n",
    "    t1 = get_time(x0, y0, x1, y1, t)[0].right() \n",
    "    x2 = -x1 #By symmetry\n",
    "    y2 = y1 #Again by symmetry\n",
    "    z2 = x2 + y2*I\n",
    "    Rz1 = linfrac(x1, y1)\n",
    "    Rz2 = linfrac(x2, y2)\n",
    "    Rx1 = Rz1.real()\n",
    "    Ry1 = Rz1.imag()\n",
    "    Rx2 = Rz2.real()\n",
    "    Ry2 = Rz2.imag()\n",
    "    t2 = get_time(Rx1, Ry1, Rx2, Ry2, t)[0].right()\n",
    "    x3 = x0\n",
    "    y3 = y0\n",
    "    z3 = x3 + y3*I\n",
    "    t3 = get_time(x2, y2, x3, y3, t)[0].right()\n",
    "    solz = [N(z1), N(z2), N(z3)]\n",
    "    solt = [N(t1), N(t2), N(t3)]\n",
    "    sol = [(solz[0], solt[0]), (solz[1], solt[1]), (solz[2], solt[2])] #It takes time ti to get from zi-1 to zi, with i = 1, 2, 3\n",
    "    return sol\n",
    "a = 1/sqrt(3) - .1\n",
    "parametric_plot((z1(a, 3, t).real(), z1(a, 3, t).imag()), (t, 0, .2))\n",
    "#for i in range(0, 100):\n",
    "    #print(z1(a, 3, .2*i/100))\n"
   ]
  },
  {
   "cell_type": "code",
   "execution_count": null,
   "metadata": {
    "collapsed": true,
    "deletable": true,
    "editable": true
   },
   "outputs": [],
   "source": []
  },
  {
   "cell_type": "code",
   "execution_count": null,
   "metadata": {
    "collapsed": true
   },
   "outputs": [],
   "source": []
  }
 ],
 "metadata": {
  "kernelspec": {
   "display_name": "SageMath 7.6",
   "language": "",
   "name": "sagemath"
  },
  "language_info": {
   "codemirror_mode": {
    "name": "ipython",
    "version": 2
   },
   "file_extension": ".py",
   "mimetype": "text/x-python",
   "name": "python",
   "nbconvert_exporter": "python",
   "pygments_lexer": "ipython2",
   "version": "2.7.13"
  }
 },
 "nbformat": 4,
 "nbformat_minor": 2
}
